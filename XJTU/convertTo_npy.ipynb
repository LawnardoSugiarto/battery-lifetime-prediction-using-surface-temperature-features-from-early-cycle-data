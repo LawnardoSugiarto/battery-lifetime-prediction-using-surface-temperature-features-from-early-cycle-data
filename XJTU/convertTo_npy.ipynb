{
 "cells": [
  {
   "cell_type": "code",
   "execution_count": null,
   "metadata": {},
   "outputs": [],
   "source": [
    "import numpy as np\n",
    "import matplotlib.pyplot as plt\n",
    "import os, glob\n",
    "\n",
    "import matplotlib.pyplot as plt\n",
    "import data_processing_utils"
   ]
  },
  {
   "cell_type": "markdown",
   "metadata": {},
   "source": [
    "## Overview\n",
    "This script processes battery cell data from multiple batch folders, converting the raw `.csv` file format into a structured nested-dictionary format. \n",
    "\n",
    "The restructuring enables efficient iteration and feature engineering on the parsed time-series data for each cycle. Each cycle is represented as a nested dictionary, with the cycle number serving as a key at the second level of the hierarchy. We also include summary information for each cell. This format facilitates detailed analysis and modeling of battery performance metrics, performed at the other .ipynb files."
   ]
  },
  {
   "cell_type": "code",
   "execution_count": null,
   "metadata": {},
   "outputs": [],
   "source": [
    "# Define the path to the data folder\n",
    "data_folder_list = ['Batch-1', 'Batch-2']\n",
    "pickleDict = dict()\n",
    "\n",
    "# Iterate through each folder and load .mat files into pickleDict\n",
    "for folder in data_folder_list:\n",
    "    # Get a list of all files in the data folder\n",
    "    files = glob.glob(os.path.join('data', folder, '*'))\n",
    "\n",
    "    # Iterate over the list of files and read them\n",
    "    for file in files:\n",
    "        file_name = os.path.basename(file)\n",
    "        with open(file, 'rb') as f:\n",
    "            pickleDict[file_name.split('.')[0]] = scipy.io.loadmat(f)"
   ]
  },
  {
   "cell_type": "code",
   "execution_count": null,
   "metadata": {},
   "outputs": [],
   "source": [
    "# Initialize saveDict to store processed data\n",
    "saveDict = dict()\n",
    "\n",
    "# Process each key in pickleDict\n",
    "for key in pickleDict.keys():\n",
    "    saveDict[key] = dict()\n",
    "    chargetimeArr = np.array([])  # Array to store charge times\n",
    "    TmaxArr = np.array([])        # Array to store max temperatures\n",
    "    TminArr = np.array([])        # Array to store min temperatures\n",
    "    saveDict[key]['cycles'] = dict()\n",
    "    \n",
    "    # Iterate through each cycle in the data\n",
    "    for cycle in range(pickleDict[key]['data'][0].shape[0]):\n",
    "        saveDict[key]['cycles'][str(cycle)] = dict()\\\n",
    "            \n",
    "        # Extract and reshape data for the current cycle\n",
    "        saveDict[key]['cycles'][str(cycle)]['t_relative'] = pickleDict[key]['data'][0][cycle][1].reshape(1, -1)[0]\n",
    "        saveDict[key]['cycles'][str(cycle)]['V'] = pickleDict[key]['data'][0][cycle][2].reshape(1, -1)[0]\n",
    "        saveDict[key]['cycles'][str(cycle)]['I'] = pickleDict[key]['data'][0][cycle][3].reshape(1, -1)[0]\n",
    "        saveDict[key]['cycles'][str(cycle)]['Q'] = pickleDict[key]['data'][0][cycle][4].reshape(1, -1)[0]\n",
    "        saveDict[key]['cycles'][str(cycle)]['W'] = pickleDict[key]['data'][0][cycle][5].reshape(1, -1)[0]\n",
    "        saveDict[key]['cycles'][str(cycle)]['T_cell'] = pickleDict[key]['data'][0][cycle][6].reshape(1, -1)[0]\n",
    "        \n",
    "        # Adjust time array to handle discontinuities\n",
    "        t = saveDict[key]['cycles'][str(cycle)]['t_relative'].copy()\n",
    "        for idx in np.argwhere(np.diff(t) < -0.2)[::-1]: \n",
    "            t[idx.item()+1:] += t[idx.item()]\n",
    "        saveDict[key]['cycles'][str(cycle)]['t'] = t\n",
    "        \n",
    "        # Identify indices for charge, discharge, and rest phases\n",
    "        idxCh = np.argwhere(saveDict[key]['cycles'][str(cycle)]['I'] > 0.05).reshape(1, -1)[0]\n",
    "        idxDis = np.argwhere(saveDict[key]['cycles'][str(cycle)]['I'] < -0.05).reshape(1, -1)[0]\n",
    "        idxRest = np.argwhere((saveDict[key]['cycles'][str(cycle)]['I'] <= 0.05) & (saveDict[key]['cycles'][str(cycle)]['I'] >= -0.05)).reshape(1, -1)[0]\n",
    "        try:\n",
    "            # Separate rest indices into charge and discharge phases\n",
    "            idxRestDis = idxRest[np.argwhere(np.diff(idxRest)>1)[-1].item()+1:]\n",
    "            idxRestCh = idxRest[:np.argwhere(np.diff(idxRest)>1)[-1].item()+1]\n",
    "        except: idxRestCh = idxRestDis = idxRest\n",
    "        \n",
    "        # Ensure the sum of indices matches the total length\n",
    "        assert(len(saveDict[key]['cycles'][str(cycle)]['I']) == (len(idxCh) + len(idxDis) + len(idxRest)))\n",
    "        \n",
    "        # Create step_index to label different cycling segments: charger, discharge, and rest periods\n",
    "        saveDict[key]['cycles'][str(cycle)]['Step_index'] = np.ones(len(saveDict[key]['cycles'][str(cycle)]['T_cell']))\n",
    "        saveDict[key]['cycles'][str(cycle)]['Step_index'][idxCh] = [0] * len(idxCh)\n",
    "        saveDict[key]['cycles'][str(cycle)]['Step_index'][idxDis] = [2] * len(idxDis)\n",
    "        saveDict[key]['cycles'][str(cycle)]['Step_index'][idxRestDis] = [3] * len(idxRestDis)\n",
    "        saveDict[key]['cycles'][str(cycle)]['Step_index'][idxRestCh] = [1] * len(idxRestCh)\n",
    "        \n",
    "        # Separate charge and discharge capacities\n",
    "        saveDict[key]['cycles'][str(cycle)]['Qc'] = np.zeros(len(saveDict[key]['cycles'][str(cycle)]['T_cell']))\n",
    "        saveDict[key]['cycles'][str(cycle)]['Qc'][idxCh] = saveDict[key]['cycles'][str(cycle)]['Q'][idxCh]\n",
    "        saveDict[key]['cycles'][str(cycle)]['Qd'] = np.zeros(len(saveDict[key]['cycles'][str(cycle)]['T_cell']))\n",
    "        saveDict[key]['cycles'][str(cycle)]['Qd'][idxDis] = saveDict[key]['cycles'][str(cycle)]['Q'][idxDis]\n",
    "        \n",
    "        # Linearize voltage and temperature data for charge and discharge phases\n",
    "        saveDict[key]['cycles'][str(cycle)]['Vc_lin'], saveDict[key]['cycles'][str(cycle)]['Tc_lin'] = data_processing_utils.interpolate_data(\n",
    "            xp=saveDict[key]['cycles'][str(cycle)]['V'][idxCh], stepInstance=0.005, \n",
    "            fp=saveDict[key]['cycles'][str(cycle)]['T_cell'][idxCh], xLimitList=[3.6, 4.195])\n",
    "        saveDict[key]['cycles'][str(cycle)]['Vd_lin'], saveDict[key]['cycles'][str(cycle)]['Td_lin'] = data_processing_utils.interpolate_data(\n",
    "            xp=saveDict[key]['cycles'][str(cycle)]['V'][idxDis], stepInstance=0.01, \n",
    "            fp=saveDict[key]['cycles'][str(cycle)]['T_cell'][idxDis], xLimitList=[4.15, 2.5])\n",
    "        _, saveDict[key]['cycles'][str(cycle)]['Qc_lin'] = data_processing_utils.interpolate_data(\n",
    "            xp=saveDict[key]['cycles'][str(cycle)]['V'][idxCh], stepInstance=0.005, \n",
    "            fp=saveDict[key]['cycles'][str(cycle)]['Qc'][idxCh], xLimitList=[3.6, 4.2])\n",
    "        _, saveDict[key]['cycles'][str(cycle)]['Qd_lin'] = data_processing_utils.interpolate_data(\n",
    "            xp=saveDict[key]['cycles'][str(cycle)]['V'][idxDis], stepInstance=0.01, \n",
    "            fp=saveDict[key]['cycles'][str(cycle)]['Qd'][idxDis], xLimitList=[4.15, 2.49])       \n",
    "        \n",
    "        # Append charge time, max temperature, and min temperature for the current cycle\n",
    "        chargetimeArr = np.append(chargetimeArr, np.max(saveDict[key]['cycles'][str(cycle)]['t_relative'][idxCh]))\n",
    "        TmaxArr = np.append(TmaxArr, np.max(saveDict[key]['cycles'][str(cycle)]['T_cell']))\n",
    "        TminArr = np.append(TminArr, np.min(saveDict[key]['cycles'][str(cycle)]['T_cell']))\n",
    "        \n",
    "    # Add summary information across all cycles for each file\n",
    "    saveDict[key]['summary'] = dict()\n",
    "    saveDict[key]['summary']['cycle'] = np.arange(0, len(pickleDict[key]['summary'][0][0][0]))\n",
    "    saveDict[key]['summary']['Qc'] = pickleDict[key]['summary'][0][0][0]\n",
    "    saveDict[key]['summary']['Qd'] = pickleDict[key]['summary'][0][0][1]\n",
    "    saveDict[key]['summary']['Wc'] = pickleDict[key]['summary'][0][0][2]\n",
    "    saveDict[key]['summary']['Wd'] = pickleDict[key]['summary'][0][0][3]\n",
    "    saveDict[key]['summary']['Vc_median'] = pickleDict[key]['summary'][0][0][4]\n",
    "    saveDict[key]['summary']['Vd_median'] = pickleDict[key]['summary'][0][0][5]\n",
    "    saveDict[key]['summary']['Vc_mean'] = pickleDict[key]['summary'][0][0][6]\n",
    "    saveDict[key]['summary']['Vd_mean'] = pickleDict[key]['summary'][0][0][7]\n",
    "    saveDict[key]['summary']['chargetime'] = chargetimeArr\n",
    "    saveDict[key]['summary']['IRavg'] = np.ones(len(pickleDict[key]['summary'][0][0][0]))\n",
    "    saveDict[key]['summary']['Tmax'] = TmaxArr\n",
    "    saveDict[key]['summary']['Tmin'] = TminArr\n",
    "    \n",
    "    # Add cycle life as model's target\n",
    "    saveDict[key]['cycleLife'] = pickleDict[key]['summary'][0][0][8]"
   ]
  },
  {
   "cell_type": "code",
   "execution_count": null,
   "metadata": {},
   "outputs": [
    {
     "data": {
      "text/plain": [
       "<matplotlib.collections.PathCollection at 0x18b72af8b80>"
      ]
     },
     "execution_count": 4,
     "metadata": {},
     "output_type": "execute_result"
    },
    {
     "data": {
      "image/png": "[encoded data removed]",
      "text/plain": [
       "<Figure size 432x288 with 1 Axes>"
      ]
     },
     "metadata": {
      "needs_background": "light"
     },
     "output_type": "display_data"
    }
   ],
   "source": [
    "# Random check on continuity the different index-splitting based on the extracted Step_index\n",
    "plt.plot(saveDict[key]['cycles'][str(cycle)]['t'][idxCh], saveDict[key]['cycles'][str(cycle)]['T_cell'][idxCh], color = 'red')\n",
    "plt.plot(saveDict[key]['cycles'][str(cycle)]['t'][idxDis], saveDict[key]['cycles'][str(cycle)]['T_cell'][idxDis], color = 'blue')\n",
    "plt.scatter(saveDict[key]['cycles'][str(cycle)]['t'][idxRestCh], saveDict[key]['cycles'][str(cycle)]['T_cell'][idxRestCh], color = 'orange')\n",
    "plt.scatter(saveDict[key]['cycles'][str(cycle)]['t'][idxRestDis], saveDict[key]['cycles'][str(cycle)]['T_cell'][idxRestDis], color = 'black')"
   ]
  },
  {
   "cell_type": "code",
   "execution_count": null,
   "metadata": {},
   "outputs": [],
   "source": [
    "# Save the processed data to a .npy file\n",
    "np.save('batteryDictionary', saveDict)"
   ]
  },
  {
   "cell_type": "code",
   "execution_count": null,
   "metadata": {},
   "outputs": [],
   "source": []
  }
 ],
 "metadata": {
  "kernelspec": {
   "display_name": "base",
   "language": "python",
   "name": "python3"
  },
  "language_info": {
   "codemirror_mode": {
    "name": "ipython",
    "version": 3
   },
   "file_extension": ".py",
   "mimetype": "text/x-python",
   "name": "python",
   "nbconvert_exporter": "python",
   "pygments_lexer": "ipython3",
   "version": "3.8.8"
  }
 },
 "nbformat": 4,
 "nbformat_minor": 2
}
