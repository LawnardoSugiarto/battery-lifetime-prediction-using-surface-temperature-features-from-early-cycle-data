{
 "cells": [
  {
   "cell_type": "code",
   "execution_count": 1,
   "metadata": {},
   "outputs": [],
   "source": [
    "import h5py\n",
    "import scipy.io\n",
    "import pickle\n",
    "import numpy as np\n",
    "import matplotlib.pyplot as plt"
   ]
  },
  {
   "cell_type": "code",
   "execution_count": 10,
   "metadata": {},
   "outputs": [
    {
     "name": "stderr",
     "output_type": "stream",
     "text": [
      "<ipython-input-10-562c8e7c041a>:2: H5pyDeprecationWarning: The default file mode will change to 'r' (read-only) in h5py 3.0. To suppress this warning, pass the mode you need to h5py.File(), or set the global default h5.get_config().default_file_mode, or set the environment variable H5PY_DEFAULT_READONLY=1. Available modes are: 'r', 'r+', 'w', 'w-'/'x', 'a'. See the docs for details.\n",
      "  f = h5py.File(matlabFile)\n"
     ]
    }
   ],
   "source": [
    "#open the matlab data and assign it to a variable\n",
    "matlabFile = './Data/2017-05-12_batchdata_updated_struct_errorcorrect.mat'\n",
    "f = h5py.File(matlabFile)"
   ]
  },
  {
   "cell_type": "code",
   "execution_count": 11,
   "metadata": {},
   "outputs": [
    {
     "data": {
      "text/plain": [
       "['#refs#', '#subsystem#', 'batch', 'batch_date']"
      ]
     },
     "execution_count": 11,
     "metadata": {},
     "output_type": "execute_result"
    }
   ],
   "source": [
    "list(f.keys())"
   ]
  },
  {
   "cell_type": "code",
   "execution_count": 12,
   "metadata": {},
   "outputs": [],
   "source": [
    "#take the batch info\n",
    "batch = f['batch']"
   ]
  },
  {
   "cell_type": "code",
   "execution_count": 13,
   "metadata": {},
   "outputs": [
    {
     "data": {
      "text/plain": [
       "['Vdlin',\n",
       " 'barcode',\n",
       " 'channel_id',\n",
       " 'cycle_life',\n",
       " 'cycles',\n",
       " 'policy',\n",
       " 'policy_readable',\n",
       " 'summary']"
      ]
     },
     "execution_count": 13,
     "metadata": {},
     "output_type": "execute_result"
    }
   ],
   "source": [
    "list(batch.keys())"
   ]
  },
  {
   "cell_type": "code",
   "execution_count": 27,
   "metadata": {},
   "outputs": [
    {
     "data": {
      "text/plain": [
       "[46, 1]"
      ]
     },
     "execution_count": 27,
     "metadata": {},
     "output_type": "execute_result"
    }
   ],
   "source": [
    "list(batch['summary'].shape)"
   ]
  },
  {
   "cell_type": "code",
   "execution_count": 32,
   "metadata": {},
   "outputs": [
    {
     "name": "stderr",
     "output_type": "stream",
     "text": [
      "<ipython-input-32-0f23df5dc1e3>:8: H5pyDeprecationWarning: dataset.value has been deprecated. Use dataset[()] instead.\n",
      "  cl = f[batch['cycle_life'][i,0]].value\n",
      "<ipython-input-32-0f23df5dc1e3>:9: H5pyDeprecationWarning: dataset.value has been deprecated. Use dataset[()] instead.\n",
      "  policy = f[batch['policy_readable'][i,0]].value.tobytes()[::2].decode()\n",
      "<ipython-input-32-0f23df5dc1e3>:25: H5pyDeprecationWarning: dataset.value has been deprecated. Use dataset[()] instead.\n",
      "  I = np.hstack((f[cycles['I'][j,0]].value))\n",
      "<ipython-input-32-0f23df5dc1e3>:26: H5pyDeprecationWarning: dataset.value has been deprecated. Use dataset[()] instead.\n",
      "  Qc = np.hstack((f[cycles['Qc'][j,0]].value))\n",
      "<ipython-input-32-0f23df5dc1e3>:27: H5pyDeprecationWarning: dataset.value has been deprecated. Use dataset[()] instead.\n",
      "  Qd = np.hstack((f[cycles['Qd'][j,0]].value))\n",
      "<ipython-input-32-0f23df5dc1e3>:28: H5pyDeprecationWarning: dataset.value has been deprecated. Use dataset[()] instead.\n",
      "  Qdlin = np.hstack((f[cycles['Qdlin'][j,0]].value))\n",
      "<ipython-input-32-0f23df5dc1e3>:29: H5pyDeprecationWarning: dataset.value has been deprecated. Use dataset[()] instead.\n",
      "  T = np.hstack((f[cycles['T'][j,0]].value))\n",
      "<ipython-input-32-0f23df5dc1e3>:30: H5pyDeprecationWarning: dataset.value has been deprecated. Use dataset[()] instead.\n",
      "  Tdlin = np.hstack((f[cycles['Tdlin'][j,0]].value))\n",
      "<ipython-input-32-0f23df5dc1e3>:31: H5pyDeprecationWarning: dataset.value has been deprecated. Use dataset[()] instead.\n",
      "  V = np.hstack((f[cycles['V'][j,0]].value))\n",
      "<ipython-input-32-0f23df5dc1e3>:32: H5pyDeprecationWarning: dataset.value has been deprecated. Use dataset[()] instead.\n",
      "  dQdV = np.hstack((f[cycles['discharge_dQdV'][j,0]].value))\n",
      "<ipython-input-32-0f23df5dc1e3>:33: H5pyDeprecationWarning: dataset.value has been deprecated. Use dataset[()] instead.\n",
      "  t = np.hstack((f[cycles['t'][j,0]].value))\n"
     ]
    }
   ],
   "source": [
    "#number of cells in this batch\n",
    "num_cells = batch['summary'].shape[0]\n",
    "\n",
    "#insert all the information from the h5py format into dictionary structure\n",
    "bat_dict = {}\n",
    "\n",
    "for i in range(num_cells):\n",
    "    cl = f[batch['cycle_life'][i,0]].value \n",
    "    policy = f[batch['policy_readable'][i,0]].value.tobytes()[::2].decode() \n",
    "    summary_IR = np.hstack(f[batch['summary'][i,0]]['IR'][0,:].tolist())\n",
    "    summary_QC = np.hstack(f[batch['summary'][i,0]]['QCharge'][0,:].tolist())\n",
    "    summary_QD = np.hstack(f[batch['summary'][i,0]]['QDischarge'][0,:].tolist())\n",
    "    summary_TA = np.hstack(f[batch['summary'][i,0]]['Tavg'][0,:].tolist())\n",
    "    summary_TM = np.hstack(f[batch['summary'][i,0]]['Tmin'][0,:].tolist())\n",
    "    summary_TX = np.hstack(f[batch['summary'][i,0]]['Tmax'][0,:].tolist())\n",
    "    summary_CT = np.hstack(f[batch['summary'][i,0]]['chargetime'][0,:].tolist())\n",
    "    summary_CY = np.hstack(f[batch['summary'][i,0]]['cycle'][0,:].tolist())\n",
    "    summary = {'IR':summary_IR, 'QC':summary_QC, 'QD':summary_QD, 'Tavg':summary_TA, 'Tmin': summary_TM,\n",
    "              'Tmax': summary_TX, 'chargetime':summary_CT, 'cycle':summary_CY}\n",
    "    \n",
    "    cycles = f[batch['cycles'][i,0]]\n",
    "    cycle_dict = {}\n",
    "    \n",
    "    for j in range(cycles['I'].shape[0]):\n",
    "        I = np.hstack((f[cycles['I'][j,0]].value))\n",
    "        Qc = np.hstack((f[cycles['Qc'][j,0]].value))\n",
    "        Qd = np.hstack((f[cycles['Qd'][j,0]].value))\n",
    "        Qdlin = np.hstack((f[cycles['Qdlin'][j,0]].value))\n",
    "        T = np.hstack((f[cycles['T'][j,0]].value))\n",
    "        Tdlin = np.hstack((f[cycles['Tdlin'][j,0]].value))\n",
    "        V = np.hstack((f[cycles['V'][j,0]].value))\n",
    "        dQdV = np.hstack((f[cycles['discharge_dQdV'][j,0]].value))\n",
    "        t = np.hstack((f[cycles['t'][j,0]].value))\n",
    "        cd = {'I': I, 'Qc':Qc, 'Qd':Qd, 'Qdlin':Qdlin, 'T':T, 'Tdlin':Tdlin, 'V':V, 'dQdV':dQdV, 't':t}\n",
    "        cycle_dict[str(j)] = cd\n",
    "        \n",
    "    cell_dict = {'cycle_life': cl, 'charge_policy': policy, 'summary': summary, 'cycles': cycle_dict}\n",
    "    key = 'b1c' + str(i)\n",
    "    bat_dict[key] = cell_dict"
   ]
  },
  {
   "cell_type": "code",
   "execution_count": 35,
   "metadata": {},
   "outputs": [
    {
     "data": {
      "text/plain": [
       "dict_keys(['b1c0', 'b1c1', 'b1c2', 'b1c3', 'b1c4', 'b1c5', 'b1c6', 'b1c7', 'b1c8', 'b1c9', 'b1c10', 'b1c11', 'b1c12', 'b1c13', 'b1c14', 'b1c15', 'b1c16', 'b1c17', 'b1c18', 'b1c19', 'b1c20', 'b1c21', 'b1c22', 'b1c23', 'b1c24', 'b1c25', 'b1c26', 'b1c27', 'b1c28', 'b1c29', 'b1c30', 'b1c31', 'b1c32', 'b1c33', 'b1c34', 'b1c35', 'b1c36', 'b1c37', 'b1c38', 'b1c39', 'b1c40', 'b1c41', 'b1c42', 'b1c43', 'b1c44', 'b1c45'])"
      ]
     },
     "execution_count": 35,
     "metadata": {},
     "output_type": "execute_result"
    }
   ],
   "source": [
    "bat_dict.keys()"
   ]
  },
  {
   "cell_type": "markdown",
   "metadata": {},
   "source": [
    "Experimental design\n",
    "- All cells were cycled with one-step or two-step charging policies. The charging time varies from ~8 to 13.3 minutes (0-80% SOC). There are generally two cells tested per policy, with the exception of 3.6C(80%).\n",
    "1 minute and 1 second rests were placed after reaching 80% SOC during charging and after discharging, respectively.\n",
    "- We cycle to 80% of nominal capacity (0.88 Ah).\n",
    "- An initial C/10 cycle was performed in the beginning of each test.\n",
    "- The cutoff currents for the constant-voltage steps were C/50 for both charge and discharge.\n",
    "- The pulse width of the IR test is 30 ms.\n",
    "\n",
    "Experimental notes\n",
    "- The computer automatically restarted twice. As such, there are some time gaps in the data.\n",
    "- The temperature control is somewhat inconsistent, leading to variability in the baseline chamber temperature.\n",
    "- The tests in channels 4 and 8 did not successfully start and thus do not have data.\n",
    "- The thermocouples for channels 15 and 16 were accidentally switched.\n",
    "\n",
    "Data ntoes\n",
    "- Cycle 1 data is not available in the struct. \n",
    "- The sampling rate for this cycle was initially too high, so we excluded it from the data set to create more manageable file sizes.\n",
    "- The cells in Channels 1, 2, 3, 5, and 6 (3.6C(80%) and 4C(80%) policies) were stopped at the end of this batch and resumed in the 2017-06-30 batch. This pause in cycling lead to a rise in capacity upon resuming the tests.\n",
    "- The tests in channels 13, 19, 21, 22, and 31 were terminated before the cells reached 80% of nominal capacity."
   ]
  },
  {
   "cell_type": "code",
   "execution_count": 60,
   "metadata": {},
   "outputs": [
    {
     "data": {
      "text/plain": [
       "Text(0.5, 1.0, 'Cell 43 cycle 10')"
      ]
     },
     "execution_count": 60,
     "metadata": {},
     "output_type": "execute_result"
    },
    {
     "data": {
      "image/png": "[encoded data removed]",
      "text/plain": [
       "<Figure size 432x288 with 1 Axes>"
      ]
     },
     "metadata": {
      "needs_background": "light"
     },
     "output_type": "display_data"
    }
   ],
   "source": [
    "plt.plot(bat_dict['b1c43']['cycles']['10']['Qd'], bat_dict['b1c43']['cycles']['10']['V'])\n",
    "plt.xlabel('Q discharge')\n",
    "plt.ylabel('Voltage')\n",
    "plt.title('Cell 43 cycle 10')"
   ]
  },
  {
   "cell_type": "code",
   "execution_count": 61,
   "metadata": {},
   "outputs": [],
   "source": [
    "with open('batch1.pkl','wb') as fp:\n",
    "        pickle.dump(bat_dict,fp)"
   ]
  },
  {
   "cell_type": "code",
   "execution_count": null,
   "metadata": {},
   "outputs": [],
   "source": []
  }
 ],
 "metadata": {
  "kernelspec": {
   "display_name": "Python 3",
   "language": "python",
   "name": "python3"
  },
  "language_info": {
   "codemirror_mode": {
    "name": "ipython",
    "version": 3
   },
   "file_extension": ".py",
   "mimetype": "text/x-python",
   "name": "python",
   "nbconvert_exporter": "python",
   "pygments_lexer": "ipython3",
   "version": "3.8.5"
  }
 },
 "nbformat": 4,
 "nbformat_minor": 4
}
