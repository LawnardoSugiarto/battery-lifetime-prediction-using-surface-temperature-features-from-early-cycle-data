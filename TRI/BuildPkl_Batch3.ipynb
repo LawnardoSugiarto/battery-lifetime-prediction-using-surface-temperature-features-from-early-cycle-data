{
 "cells": [
  {
   "cell_type": "code",
   "execution_count": 1,
   "metadata": {},
   "outputs": [],
   "source": [
    "import h5py\n",
    "import scipy.io\n",
    "import matplotlib.pyplot as plt\n",
    "import numpy as np\n",
    "import pickle"
   ]
  },
  {
   "cell_type": "code",
   "execution_count": 2,
   "metadata": {},
   "outputs": [
    {
     "name": "stderr",
     "output_type": "stream",
     "text": [
      "<ipython-input-2-3bf0006de27d>:2: H5pyDeprecationWarning: The default file mode will change to 'r' (read-only) in h5py 3.0. To suppress this warning, pass the mode you need to h5py.File(), or set the global default h5.get_config().default_file_mode, or set the environment variable H5PY_DEFAULT_READONLY=1. Available modes are: 'r', 'r+', 'w', 'w-'/'x', 'a'. See the docs for details.\n",
      "  f = h5py.File(matFilename)\n"
     ]
    }
   ],
   "source": [
    "matFilename = './Data/2018-04-12_batchdata_updated_struct_errorcorrect.mat'\n",
    "f = h5py.File(matFilename)"
   ]
  },
  {
   "cell_type": "code",
   "execution_count": 3,
   "metadata": {},
   "outputs": [
    {
     "data": {
      "text/plain": [
       "['#refs#', '#subsystem#', 'batch', 'batch_date']"
      ]
     },
     "execution_count": 3,
     "metadata": {},
     "output_type": "execute_result"
    }
   ],
   "source": [
    "list(f.keys())"
   ]
  },
  {
   "cell_type": "code",
   "execution_count": 4,
   "metadata": {},
   "outputs": [],
   "source": [
    "batch = f['batch']"
   ]
  },
  {
   "cell_type": "code",
   "execution_count": 5,
   "metadata": {},
   "outputs": [
    {
     "data": {
      "text/plain": [
       "['Vdlin',\n",
       " 'barcode',\n",
       " 'channel_id',\n",
       " 'cycle_life',\n",
       " 'cycles',\n",
       " 'policy',\n",
       " 'policy_readable',\n",
       " 'summary']"
      ]
     },
     "execution_count": 5,
     "metadata": {},
     "output_type": "execute_result"
    }
   ],
   "source": [
    "list(batch.keys())"
   ]
  },
  {
   "cell_type": "code",
   "execution_count": 6,
   "metadata": {},
   "outputs": [
    {
     "name": "stderr",
     "output_type": "stream",
     "text": [
      "<ipython-input-6-636ed3c25165>:4: H5pyDeprecationWarning: dataset.value has been deprecated. Use dataset[()] instead.\n",
      "  cl = f[batch['cycle_life'][i,0]].value\n",
      "<ipython-input-6-636ed3c25165>:5: H5pyDeprecationWarning: dataset.value has been deprecated. Use dataset[()] instead.\n",
      "  policy = f[batch['policy_readable'][i,0]].value.tobytes()[::2].decode()\n",
      "<ipython-input-6-636ed3c25165>:20: H5pyDeprecationWarning: dataset.value has been deprecated. Use dataset[()] instead.\n",
      "  I = np.hstack((f[cycles['I'][j,0]].value))\n",
      "<ipython-input-6-636ed3c25165>:21: H5pyDeprecationWarning: dataset.value has been deprecated. Use dataset[()] instead.\n",
      "  Qc = np.hstack((f[cycles['Qc'][j,0]].value))\n",
      "<ipython-input-6-636ed3c25165>:22: H5pyDeprecationWarning: dataset.value has been deprecated. Use dataset[()] instead.\n",
      "  Qd = np.hstack((f[cycles['Qd'][j,0]].value))\n",
      "<ipython-input-6-636ed3c25165>:23: H5pyDeprecationWarning: dataset.value has been deprecated. Use dataset[()] instead.\n",
      "  Qdlin = np.hstack((f[cycles['Qdlin'][j,0]].value))\n",
      "<ipython-input-6-636ed3c25165>:24: H5pyDeprecationWarning: dataset.value has been deprecated. Use dataset[()] instead.\n",
      "  T = np.hstack((f[cycles['T'][j,0]].value))\n",
      "<ipython-input-6-636ed3c25165>:25: H5pyDeprecationWarning: dataset.value has been deprecated. Use dataset[()] instead.\n",
      "  Tdlin = np.hstack((f[cycles['Tdlin'][j,0]].value))\n",
      "<ipython-input-6-636ed3c25165>:26: H5pyDeprecationWarning: dataset.value has been deprecated. Use dataset[()] instead.\n",
      "  V = np.hstack((f[cycles['V'][j,0]].value))\n",
      "<ipython-input-6-636ed3c25165>:27: H5pyDeprecationWarning: dataset.value has been deprecated. Use dataset[()] instead.\n",
      "  dQdV = np.hstack((f[cycles['discharge_dQdV'][j,0]].value))\n",
      "<ipython-input-6-636ed3c25165>:28: H5pyDeprecationWarning: dataset.value has been deprecated. Use dataset[()] instead.\n",
      "  t = np.hstack((f[cycles['t'][j,0]].value))\n"
     ]
    }
   ],
   "source": [
    "num_cells = batch['summary'].shape[0]\n",
    "bat_dict = {}\n",
    "for i in range(num_cells):\n",
    "    cl = f[batch['cycle_life'][i,0]].value\n",
    "    policy = f[batch['policy_readable'][i,0]].value.tobytes()[::2].decode()\n",
    "    summary_IR = np.hstack(f[batch['summary'][i,0]]['IR'][0,:].tolist())\n",
    "    summary_QC = np.hstack(f[batch['summary'][i,0]]['QCharge'][0,:].tolist())\n",
    "    summary_QD = np.hstack(f[batch['summary'][i,0]]['QDischarge'][0,:].tolist())\n",
    "    summary_TA = np.hstack(f[batch['summary'][i,0]]['Tavg'][0,:].tolist())\n",
    "    summary_TM = np.hstack(f[batch['summary'][i,0]]['Tmin'][0,:].tolist())\n",
    "    summary_TX = np.hstack(f[batch['summary'][i,0]]['Tmax'][0,:].tolist())\n",
    "    summary_CT = np.hstack(f[batch['summary'][i,0]]['chargetime'][0,:].tolist())\n",
    "    summary_CY = np.hstack(f[batch['summary'][i,0]]['cycle'][0,:].tolist())\n",
    "    summary = {'IR': summary_IR, 'QC': summary_QC, 'QD': summary_QD, 'Tavg':\n",
    "                summary_TA, 'Tmin': summary_TM, 'Tmax': summary_TX, 'chargetime': summary_CT,\n",
    "                'cycle': summary_CY}\n",
    "    cycles = f[batch['cycles'][i,0]]\n",
    "    cycle_dict = {}\n",
    "    for j in range(cycles['I'].shape[0]):\n",
    "        I = np.hstack((f[cycles['I'][j,0]].value))\n",
    "        Qc = np.hstack((f[cycles['Qc'][j,0]].value))\n",
    "        Qd = np.hstack((f[cycles['Qd'][j,0]].value))\n",
    "        Qdlin = np.hstack((f[cycles['Qdlin'][j,0]].value))\n",
    "        T = np.hstack((f[cycles['T'][j,0]].value))\n",
    "        Tdlin = np.hstack((f[cycles['Tdlin'][j,0]].value))\n",
    "        V = np.hstack((f[cycles['V'][j,0]].value))\n",
    "        dQdV = np.hstack((f[cycles['discharge_dQdV'][j,0]].value))\n",
    "        t = np.hstack((f[cycles['t'][j,0]].value))\n",
    "        cd = {'I': I, 'Qc': Qc, 'Qd': Qd, 'Qdlin': Qdlin, 'T': T, 'Tdlin': Tdlin, 'V':V, 'dQdV': dQdV, 't':t}\n",
    "        cycle_dict[str(j)] = cd\n",
    "        \n",
    "    cell_dict = {'cycle_life': cl, 'charge_policy':policy, 'summary': summary, 'cycles': cycle_dict}\n",
    "    key = 'b3c' + str(i)\n",
    "    bat_dict[key]=   cell_dict"
   ]
  },
  {
   "cell_type": "code",
   "execution_count": 7,
   "metadata": {},
   "outputs": [
    {
     "data": {
      "text/plain": [
       "dict_keys(['b3c0', 'b3c1', 'b3c2', 'b3c3', 'b3c4', 'b3c5', 'b3c6', 'b3c7', 'b3c8', 'b3c9', 'b3c10', 'b3c11', 'b3c12', 'b3c13', 'b3c14', 'b3c15', 'b3c16', 'b3c17', 'b3c18', 'b3c19', 'b3c20', 'b3c21', 'b3c22', 'b3c23', 'b3c24', 'b3c25', 'b3c26', 'b3c27', 'b3c28', 'b3c29', 'b3c30', 'b3c31', 'b3c32', 'b3c33', 'b3c34', 'b3c35', 'b3c36', 'b3c37', 'b3c38', 'b3c39', 'b3c40', 'b3c41', 'b3c42', 'b3c43', 'b3c44', 'b3c45'])"
      ]
     },
     "execution_count": 7,
     "metadata": {},
     "output_type": "execute_result"
    }
   ],
   "source": [
    "bat_dict.keys()"
   ]
  },
  {
   "cell_type": "code",
   "execution_count": 8,
   "metadata": {},
   "outputs": [
    {
     "data": {
      "text/plain": [
       "[<matplotlib.lines.Line2D at 0x20181fd42e0>]"
      ]
     },
     "execution_count": 8,
     "metadata": {},
     "output_type": "execute_result"
    },
    {
     "data": {
      "image/png": "[encoded data removed]",
      "text/plain": [
       "<Figure size 432x288 with 1 Axes>"
      ]
     },
     "metadata": {
      "needs_background": "light"
     },
     "output_type": "display_data"
    }
   ],
   "source": [
    "plt.plot(bat_dict['b3c43']['summary']['cycle'], bat_dict['b3c43']['summary']['QD'])"
   ]
  },
  {
   "cell_type": "code",
   "execution_count": 9,
   "metadata": {},
   "outputs": [
    {
     "data": {
      "text/plain": [
       "[<matplotlib.lines.Line2D at 0x20182061610>]"
      ]
     },
     "execution_count": 9,
     "metadata": {},
     "output_type": "execute_result"
    },
    {
     "data": {
      "image/png": "[encoded data removed]",
      "text/plain": [
       "<Figure size 432x288 with 1 Axes>"
      ]
     },
     "metadata": {
      "needs_background": "light"
     },
     "output_type": "display_data"
    }
   ],
   "source": [
    "plt.plot(bat_dict['b3c43']['cycles']['10']['Qd'], bat_dict['b3c43']['cycles']['10']['V'])"
   ]
  },
  {
   "cell_type": "code",
   "execution_count": 10,
   "metadata": {},
   "outputs": [],
   "source": [
    "with open('batch3.pkl','wb') as fp:\n",
    "        pickle.dump(bat_dict,fp)"
   ]
  }
 ],
 "metadata": {
  "kernelspec": {
   "display_name": "Python 3",
   "language": "python",
   "name": "python3"
  },
  "language_info": {
   "codemirror_mode": {
    "name": "ipython",
    "version": 3
   },
   "file_extension": ".py",
   "mimetype": "text/x-python",
   "name": "python",
   "nbconvert_exporter": "python",
   "pygments_lexer": "ipython3",
   "version": "3.8.3"
  }
 },
 "nbformat": 4,
 "nbformat_minor": 2
}
